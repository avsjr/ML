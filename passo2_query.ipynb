import cx_Oracle # para conexão com banco de dados Oracle
import time
import pandas as pd

connection_parameters = {
    "user": "abcd",
    "password": "1234",
    "dsn": "XXX.XXX.XXX.XXX:0000/abcd_efgh" # "dsn": "IP do banco de dados:porta/service_name"
}

connection = cx_Oracle.connect(**connection_parameters)
cursor = connection.cursor()

query = """
SELECT * FROM TABELA
"""

start_time = time.time() # analisar o tempo que a query vai levar

cursor.execute(query)

columns = [col[0] for col in cursor.description]
df = pd.DataFrame(cursor.fetchall(), columns=columns)

df.to_csv('documento.csv', index=False, sep=';') # salvar em .csv com separador ";"

end_time = time.time() # analisar o tempo que a query vai levar
elapsed_time = end_time - start_time
elapsed_time_minutes = elapsed_time / 60
print(f"Tempo total de execução: {elapsed_time:2f} segundos")
print(f"Tempo total de execução: {elapsed_time_minutes:.2f} minutos")

cursor.close()
connection.close()
